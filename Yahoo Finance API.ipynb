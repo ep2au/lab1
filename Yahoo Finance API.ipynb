{
 "cells": [
  {
   "cell_type": "code",
   "execution_count": 1,
   "id": "727a1094",
   "metadata": {},
   "outputs": [],
   "source": [
    "import json \n",
    "import pandas as pd\n",
    "import requests\n",
    "import csv\n",
    "from csv import writer\n",
    "import time"
   ]
  },
  {
   "cell_type": "code",
   "execution_count": 2,
   "id": "a038942d",
   "metadata": {},
   "outputs": [
    {
     "ename": "SyntaxError",
     "evalue": "invalid syntax (3055777843.py, line 14)",
     "output_type": "error",
     "traceback": [
      "\u001b[0;36m  File \u001b[0;32m\"/var/folders/2p/2qpxnswd1bx90cz4gyk7k6yr0000gn/T/ipykernel_8598/3055777843.py\"\u001b[0;36m, line \u001b[0;32m14\u001b[0m\n\u001b[0;31m    and. ...\u001b[0m\n\u001b[0m    ^\u001b[0m\n\u001b[0;31mSyntaxError\u001b[0m\u001b[0;31m:\u001b[0m invalid syntax\n"
     ]
    }
   ],
   "source": [
    "apikey = \"eYlT0LTQ2e2bG9jZ4PBAS6pFjKx9o0kF6JcoTSAo\"\n",
    "\n",
    "url = \"https://yfapi.net/v6/finance/quote\"\n",
    "\n",
    "querystring = {\"symbols\":\"AAPL,BTC-USD,EURUSD=X\"}\n",
    "\n",
    "headers = {\n",
    "    'x-api-key': \"YOUR-PERSONAL-API-KEY\"\n",
    "    }\n",
    "\n",
    "response = requests.request(\"GET\", url, headers=headers, params=querystring)\n",
    "\n",
    "print(response.text)\n",
    "and. ...\n",
    "stockPrice = stock_json['quoteResponse']['result'][0]['regularMarketPrice']\n",
    "print (stockPrice)"
   ]
  },
  {
   "cell_type": "code",
   "execution_count": null,
   "id": "17ec7a8a",
   "metadata": {},
   "outputs": [],
   "source": [
    "## Getting the api request \n",
    "\n",
    "def stock_ticker():\n",
    "    \n",
    "    ticker = str(input(\"Enter a Stock Ticker: \")).upper()\n",
    "    \n",
    "    try:\n",
    "        querystring = {\"symbols\": ticker}\n",
    "        headers = {'x-api-key': apikey}\n",
    "        response = requests.request(\"GET\", yahoo_url, headers=headers, params=querystring)\n",
    "\n",
    "        response.raise_for_status()  # status exception\n",
    "    \n",
    "        if response.status_code != 204:\n",
    "            stock_json = response.json()\n",
    "            \n",
    "\n",
    "            stock_name = ticker\n",
    "            stock_price = stock_json['quoteResponse']['result'][0][\"regularMarketPrice\"]\n",
    "            time_stamp = stock_json['quoteResponse']['result'][0][\"regularMarketTime\"]\n",
    "            time_stamp = time.strftime(\"%Y-%m-%d %H:%M:%S\", time.gmtime(time_stamp))\n",
    "            \n",
    "            output = ticker + \", \" + str(time_stamp) + \", \" + str(stock_price)\n",
    "            \n",
    "            print(output)\n",
    "            \n",
    "            return [stock_name, time_stamp, stock_price] \n",
    "    \n",
    "    # Error handling\n",
    "    \n",
    "    # key error: the stock ticker does not exist\n",
    "    except KeyError: \n",
    "        print(\"Error in key. Please try again.\") \n",
    "        \n",
    "    # index error: the user input is invalid \n",
    "    except IndexError: \n",
    "        print(\"Error in index. Please try again.\")\n",
    "        \n",
    "    # return value of the function call to be written to local csv file\n",
    "data_point = get_stock()"
   ]
  },
  {
   "cell_type": "code",
   "execution_count": null,
   "id": "e421c75d",
   "metadata": {},
   "outputs": [],
   "source": [
    "## write the data to a csv \n",
    "## create a  new empty csv if it doesn't exist prior\n",
    "\n",
    "try: \n",
    "    ## If the file does not already exist, it will write it to the local directory\n",
    "    data = pd.read_csv(\"stock.csv\")\n",
    "    with open(\"stock.csv\", \"a\") as s: \n",
    "        writer = csv.writer(s)\n",
    "        writer.writerow(data_point)\n",
    "        s.close()\n",
    "except FileNotFoundError: \n",
    "    # new file to drive\n",
    "    with open(\"stock.csv\", \"w\") as s: \n",
    "        writer = csv.writer(f)\n",
    "        \n",
    "        # header rows for column names\n",
    "        header = [\"Ticker\", \"Market Time\", \"Price\"]\n",
    "        \n",
    "        writer.writerow(header)\n",
    "        writer.writerow(data_point)\n",
    "        f.close()\n",
    "        "
   ]
  }
 ],
 "metadata": {
  "kernelspec": {
   "display_name": "Python 3 (ipykernel)",
   "language": "python",
   "name": "python3"
  },
  "language_info": {
   "codemirror_mode": {
    "name": "ipython",
    "version": 3
   },
   "file_extension": ".py",
   "mimetype": "text/x-python",
   "name": "python",
   "nbconvert_exporter": "python",
   "pygments_lexer": "ipython3",
   "version": "3.9.7"
  }
 },
 "nbformat": 4,
 "nbformat_minor": 5
}
